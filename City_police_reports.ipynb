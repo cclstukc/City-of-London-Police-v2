{
 "cells": [
  {
   "cell_type": "markdown",
   "id": "81463a9c-b128-403f-90b0-aa3801aa63c4",
   "metadata": {},
   "source": [
    "## Example intial data exploration and data quality check"
   ]
  },
  {
   "cell_type": "code",
   "execution_count": 40,
   "id": "575e6707-9141-4139-8aec-bfc62ceeb9e1",
   "metadata": {},
   "outputs": [],
   "source": [
    "import pandas as pd              # This imports functionality for working with data tables\n",
    "import pathlib                   # Mainly used to navigate the folder structure on your computer\n",
    "import matplotlib                # This import backends used for plotting\n",
    "from matplotlib import pyplot as plt\n",
    "from ipyleaflet import Map, basemaps, basemap_to_tiles, Marker, MarkerCluster # This imports the mapping functionality"
   ]
  },
  {
   "cell_type": "markdown",
   "id": "bd6eeeb5-4864-408e-b5bb-f64bf3143b7f",
   "metadata": {},
   "source": [
    "### Context"
   ]
  },
  {
   "cell_type": "markdown",
   "id": "0d91e21f-cda2-40fc-9a9e-da5f13957f34",
   "metadata": {},
   "source": [
    "Our team been commissioned to identify and quantify the factors that lead to more positive outcomes after a crime has been reported in the City of London. Here, we have been tasked with running a data quality audit to see if the data is suitable for our team's task. \n",
    "\n",
    "For this proof-of-concept we are just going to use the public data from July 2019 sourced from [data.police.uk](https://data.police.uk/data/). Using this smaller dataset allows us to quickly look closely at the data while still identifying potential data quality issues. "
   ]
  },
  {
   "cell_type": "markdown",
   "id": "7ff685fb-fa22-4d76-aebd-0743c75d006f",
   "metadata": {},
   "source": [
    "Our six dimensions of data quality are:\n",
    "- Valid \n",
    "- Unique\n",
    "- Complete\n",
    "- Timely\n",
    "- Accurate\n",
    "- Consistent"
   ]
  },
  {
   "cell_type": "markdown",
   "id": "dbec931c-5726-4e7e-a325-70df29ea5c35",
   "metadata": {},
   "source": [
    "We can already say the data is out of date, so not **timely**, as the data reporting methods might have changed since 2019."
   ]
  },
  {
   "cell_type": "markdown",
   "id": "79379d6d-f3b3-47aa-8f12-ff34a64b3b48",
   "metadata": {},
   "source": [
    "### Import the data"
   ]
  },
  {
   "cell_type": "markdown",
   "id": "21e5adae",
   "metadata": {},
   "source": [
    "Lets start by finding the path to the data files in a portable way. We can use the `pathlib` module to do this. "
   ]
  },
  {
   "cell_type": "code",
   "execution_count": 41,
   "id": "8265c00b-0668-4c7c-855d-837d837b589f",
   "metadata": {
    "scrolled": true
   },
   "outputs": [
    {
     "data": {
      "text/plain": [
       "PosixPath('/Users/kurtcormack/Documents/City of London Police data analysis/data')"
      ]
     },
     "execution_count": 41,
     "metadata": {},
     "output_type": "execute_result"
    }
   ],
   "source": [
    "notebook_folder = pathlib.Path.cwd() # This sets the notebook folder as the working directory. Everything will be saved relative to this folder\n",
    "data_folder = notebook_folder / 'data' # This sets the data folder as a subfolder of the notebook folder. Pathlib overloads the / operator to do this\n",
    "data_folder"
   ]
  },
  {
   "cell_type": "markdown",
   "id": "3b5bcaff",
   "metadata": {},
   "source": [
    "Read in the data from the CSV file using the `read_csv()` function from the `pandas` library. "
   ]
  },
  {
   "cell_type": "code",
   "execution_count": 42,
   "id": "e95d2a55-9424-4cc2-94d0-eca075488ab6",
   "metadata": {},
   "outputs": [],
   "source": [
    "outcomes_data = pd.read_csv(data_folder / '2019-07-city-of-london-outcomes.csv')"
   ]
  },
  {
   "cell_type": "markdown",
   "id": "120e289c-cee4-4117-80c0-0db606a75b85",
   "metadata": {},
   "source": [
    "### Check what data we have\n",
    "Is it valid? Is it complete?"
   ]
  },
  {
   "cell_type": "markdown",
   "id": "9d10b65d",
   "metadata": {},
   "source": [
    "We can use the `info()` method to get a quick overview of the data, its data types and the number of non-null values in each column."
   ]
  },
  {
   "cell_type": "code",
   "execution_count": 43,
   "id": "49ff1643-b43d-481d-8369-c1439062401f",
   "metadata": {},
   "outputs": [
    {
     "name": "stdout",
     "output_type": "stream",
     "text": [
      "<class 'pandas.core.frame.DataFrame'>\n",
      "RangeIndex: 649 entries, 0 to 648\n",
      "Data columns (total 10 columns):\n",
      " #   Column        Non-Null Count  Dtype  \n",
      "---  ------        --------------  -----  \n",
      " 0   Crime ID      649 non-null    object \n",
      " 1   Month         649 non-null    object \n",
      " 2   Reported by   649 non-null    object \n",
      " 3   Falls within  649 non-null    object \n",
      " 4   Longitude     616 non-null    float64\n",
      " 5   Latitude      616 non-null    float64\n",
      " 6   Location      649 non-null    object \n",
      " 7   LSOA code     616 non-null    object \n",
      " 8   LSOA name     616 non-null    object \n",
      " 9   Outcome type  649 non-null    object \n",
      "dtypes: float64(2), object(8)\n",
      "memory usage: 50.8+ KB\n"
     ]
    }
   ],
   "source": [
    "outcomes_data.info()"
   ]
  },
  {
   "cell_type": "markdown",
   "id": "3d91ec85",
   "metadata": {},
   "source": [
    "Now lets look at the start of the data using the DataFrame's `head()` method."
   ]
  },
  {
   "cell_type": "code",
   "execution_count": 44,
   "id": "31c60dc6-804d-4d73-9b4b-752a7b447f64",
   "metadata": {},
   "outputs": [
    {
     "data": {
      "text/html": [
       "<div>\n",
       "<style scoped>\n",
       "    .dataframe tbody tr th:only-of-type {\n",
       "        vertical-align: middle;\n",
       "    }\n",
       "\n",
       "    .dataframe tbody tr th {\n",
       "        vertical-align: top;\n",
       "    }\n",
       "\n",
       "    .dataframe thead th {\n",
       "        text-align: right;\n",
       "    }\n",
       "</style>\n",
       "<table border=\"1\" class=\"dataframe\">\n",
       "  <thead>\n",
       "    <tr style=\"text-align: right;\">\n",
       "      <th></th>\n",
       "      <th>Crime ID</th>\n",
       "      <th>Month</th>\n",
       "      <th>Reported by</th>\n",
       "      <th>Falls within</th>\n",
       "      <th>Longitude</th>\n",
       "      <th>Latitude</th>\n",
       "      <th>Location</th>\n",
       "      <th>LSOA code</th>\n",
       "      <th>LSOA name</th>\n",
       "      <th>Outcome type</th>\n",
       "    </tr>\n",
       "  </thead>\n",
       "  <tbody>\n",
       "    <tr>\n",
       "      <th>0</th>\n",
       "      <td>d916bdd10349bec542af76fca46dba9cd0bea4a0c522ef...</td>\n",
       "      <td>2019-07</td>\n",
       "      <td>City of London Police</td>\n",
       "      <td>City of London Police</td>\n",
       "      <td>-0.080478</td>\n",
       "      <td>51.527164</td>\n",
       "      <td>On or near Nightclub</td>\n",
       "      <td>E01033708</td>\n",
       "      <td>Hackney 027G</td>\n",
       "      <td>Suspect charged</td>\n",
       "    </tr>\n",
       "    <tr>\n",
       "      <th>1</th>\n",
       "      <td>7c09a5d829ed8e8a8471d5226a7f7d05b60c86db329182...</td>\n",
       "      <td>2019-07</td>\n",
       "      <td>City of London Police</td>\n",
       "      <td>City of London Police</td>\n",
       "      <td>NaN</td>\n",
       "      <td>NaN</td>\n",
       "      <td>No location</td>\n",
       "      <td>NaN</td>\n",
       "      <td>NaN</td>\n",
       "      <td>Offender given a drugs possession warning</td>\n",
       "    </tr>\n",
       "    <tr>\n",
       "      <th>2</th>\n",
       "      <td>7bcf63778a38f648ea025036ba2688a13891d276776acd...</td>\n",
       "      <td>2019-07</td>\n",
       "      <td>City of London Police</td>\n",
       "      <td>City of London Police</td>\n",
       "      <td>NaN</td>\n",
       "      <td>NaN</td>\n",
       "      <td>No location</td>\n",
       "      <td>NaN</td>\n",
       "      <td>NaN</td>\n",
       "      <td>Suspect charged</td>\n",
       "    </tr>\n",
       "    <tr>\n",
       "      <th>3</th>\n",
       "      <td>c8c87a0bc67dffb3a8fd1b73b909d5ea3e59f1984a5c34...</td>\n",
       "      <td>2019-07</td>\n",
       "      <td>City of London Police</td>\n",
       "      <td>City of London Police</td>\n",
       "      <td>NaN</td>\n",
       "      <td>NaN</td>\n",
       "      <td>No location</td>\n",
       "      <td>NaN</td>\n",
       "      <td>NaN</td>\n",
       "      <td>Investigation complete; no suspect identified</td>\n",
       "    </tr>\n",
       "    <tr>\n",
       "      <th>4</th>\n",
       "      <td>db2af2273cebcbd38278fcd8972a35340d22d3d7a482bc...</td>\n",
       "      <td>2019-07</td>\n",
       "      <td>City of London Police</td>\n",
       "      <td>City of London Police</td>\n",
       "      <td>NaN</td>\n",
       "      <td>NaN</td>\n",
       "      <td>No location</td>\n",
       "      <td>NaN</td>\n",
       "      <td>NaN</td>\n",
       "      <td>Unable to prosecute suspect</td>\n",
       "    </tr>\n",
       "  </tbody>\n",
       "</table>\n",
       "</div>"
      ],
      "text/plain": [
       "                                            Crime ID    Month  \\\n",
       "0  d916bdd10349bec542af76fca46dba9cd0bea4a0c522ef...  2019-07   \n",
       "1  7c09a5d829ed8e8a8471d5226a7f7d05b60c86db329182...  2019-07   \n",
       "2  7bcf63778a38f648ea025036ba2688a13891d276776acd...  2019-07   \n",
       "3  c8c87a0bc67dffb3a8fd1b73b909d5ea3e59f1984a5c34...  2019-07   \n",
       "4  db2af2273cebcbd38278fcd8972a35340d22d3d7a482bc...  2019-07   \n",
       "\n",
       "             Reported by           Falls within  Longitude   Latitude  \\\n",
       "0  City of London Police  City of London Police  -0.080478  51.527164   \n",
       "1  City of London Police  City of London Police        NaN        NaN   \n",
       "2  City of London Police  City of London Police        NaN        NaN   \n",
       "3  City of London Police  City of London Police        NaN        NaN   \n",
       "4  City of London Police  City of London Police        NaN        NaN   \n",
       "\n",
       "               Location  LSOA code     LSOA name  \\\n",
       "0  On or near Nightclub  E01033708  Hackney 027G   \n",
       "1           No location        NaN           NaN   \n",
       "2           No location        NaN           NaN   \n",
       "3           No location        NaN           NaN   \n",
       "4           No location        NaN           NaN   \n",
       "\n",
       "                                    Outcome type  \n",
       "0                                Suspect charged  \n",
       "1      Offender given a drugs possession warning  \n",
       "2                                Suspect charged  \n",
       "3  Investigation complete; no suspect identified  \n",
       "4                    Unable to prosecute suspect  "
      ]
     },
     "execution_count": 44,
     "metadata": {},
     "output_type": "execute_result"
    }
   ],
   "source": [
    "outcomes_data.head(5)"
   ]
  },
  {
   "cell_type": "markdown",
   "id": "5f441d31-0c87-4236-8508-d6dad861cf6f",
   "metadata": {},
   "source": [
    "### Unique crime ID's?\n",
    "Is the data valid? Is it unique?"
   ]
  },
  {
   "cell_type": "markdown",
   "id": "e50a1208",
   "metadata": {},
   "source": [
    "We can look at the number of unique values in the `Crime ID` column using the `nunique()` method."
   ]
  },
  {
   "cell_type": "code",
   "execution_count": 45,
   "id": "26cc3326-4e9c-4e03-86fd-75a13abd52cb",
   "metadata": {},
   "outputs": [
    {
     "data": {
      "text/plain": [
       "640"
      ]
     },
     "execution_count": 45,
     "metadata": {},
     "output_type": "execute_result"
    }
   ],
   "source": [
    "outcomes_data['Crime ID'].nunique()"
   ]
  },
  {
   "cell_type": "markdown",
   "id": "272263db-deda-4547-97e3-d7c957c0fb29",
   "metadata": {},
   "source": [
    "Are the duplicates consistent?"
   ]
  },
  {
   "cell_type": "markdown",
   "id": "9599057a",
   "metadata": {},
   "source": [
    "Now we have seen that there are duplicates, we can use the `duplicated()` method to return a Series of binary values indicating whether each row is a duplicate or not. We can then use this to filter the DataFrame to only show the duplicate rows. Lastly, we can sort the DataFrame by the `Crime ID` column to see if the duplicates are consistent."
   ]
  },
  {
   "cell_type": "code",
   "execution_count": 46,
   "id": "3f2fa470-8903-4e71-ae92-0c691b25ecd3",
   "metadata": {},
   "outputs": [
    {
     "data": {
      "text/html": [
       "<div>\n",
       "<style scoped>\n",
       "    .dataframe tbody tr th:only-of-type {\n",
       "        vertical-align: middle;\n",
       "    }\n",
       "\n",
       "    .dataframe tbody tr th {\n",
       "        vertical-align: top;\n",
       "    }\n",
       "\n",
       "    .dataframe thead th {\n",
       "        text-align: right;\n",
       "    }\n",
       "</style>\n",
       "<table border=\"1\" class=\"dataframe\">\n",
       "  <thead>\n",
       "    <tr style=\"text-align: right;\">\n",
       "      <th></th>\n",
       "      <th>Crime ID</th>\n",
       "      <th>Month</th>\n",
       "      <th>Reported by</th>\n",
       "      <th>Falls within</th>\n",
       "      <th>Longitude</th>\n",
       "      <th>Latitude</th>\n",
       "      <th>Location</th>\n",
       "      <th>LSOA code</th>\n",
       "      <th>LSOA name</th>\n",
       "      <th>Outcome type</th>\n",
       "    </tr>\n",
       "  </thead>\n",
       "  <tbody>\n",
       "    <tr>\n",
       "      <th>65</th>\n",
       "      <td>0a3764a348c726e247dab6cf2496d7a8f6e9c693fc873b...</td>\n",
       "      <td>2019-07</td>\n",
       "      <td>City of London Police</td>\n",
       "      <td>City of London Police</td>\n",
       "      <td>-0.074901</td>\n",
       "      <td>51.506255</td>\n",
       "      <td>On or near A100</td>\n",
       "      <td>E01004293</td>\n",
       "      <td>Tower Hamlets 027B</td>\n",
       "      <td>Suspect charged</td>\n",
       "    </tr>\n",
       "    <tr>\n",
       "      <th>66</th>\n",
       "      <td>0a3764a348c726e247dab6cf2496d7a8f6e9c693fc873b...</td>\n",
       "      <td>2019-07</td>\n",
       "      <td>City of London Police</td>\n",
       "      <td>City of London Police</td>\n",
       "      <td>-0.074901</td>\n",
       "      <td>51.506255</td>\n",
       "      <td>On or near A100</td>\n",
       "      <td>E01004293</td>\n",
       "      <td>Tower Hamlets 027B</td>\n",
       "      <td>Suspect charged</td>\n",
       "    </tr>\n",
       "    <tr>\n",
       "      <th>26</th>\n",
       "      <td>3868530a9b13902da68f52b661a39ef954b35108075f12...</td>\n",
       "      <td>2019-07</td>\n",
       "      <td>City of London Police</td>\n",
       "      <td>City of London Police</td>\n",
       "      <td>-0.083296</td>\n",
       "      <td>51.517058</td>\n",
       "      <td>On or near OLD BROAD STREET</td>\n",
       "      <td>E01032739</td>\n",
       "      <td>City of London 001F</td>\n",
       "      <td>Suspect charged</td>\n",
       "    </tr>\n",
       "    <tr>\n",
       "      <th>27</th>\n",
       "      <td>3868530a9b13902da68f52b661a39ef954b35108075f12...</td>\n",
       "      <td>2019-07</td>\n",
       "      <td>City of London Police</td>\n",
       "      <td>City of London Police</td>\n",
       "      <td>-0.083296</td>\n",
       "      <td>51.517058</td>\n",
       "      <td>On or near OLD BROAD STREET</td>\n",
       "      <td>E01032739</td>\n",
       "      <td>City of London 001F</td>\n",
       "      <td>Suspect charged</td>\n",
       "    </tr>\n",
       "    <tr>\n",
       "      <th>56</th>\n",
       "      <td>7d900e9f31ec2167b26d284004b78474d8ee5e0949680b...</td>\n",
       "      <td>2019-07</td>\n",
       "      <td>City of London Police</td>\n",
       "      <td>City of London Police</td>\n",
       "      <td>-0.079786</td>\n",
       "      <td>51.517576</td>\n",
       "      <td>On or near Police Station</td>\n",
       "      <td>E01032739</td>\n",
       "      <td>City of London 001F</td>\n",
       "      <td>Suspect charged</td>\n",
       "    </tr>\n",
       "    <tr>\n",
       "      <th>57</th>\n",
       "      <td>7d900e9f31ec2167b26d284004b78474d8ee5e0949680b...</td>\n",
       "      <td>2019-07</td>\n",
       "      <td>City of London Police</td>\n",
       "      <td>City of London Police</td>\n",
       "      <td>-0.079786</td>\n",
       "      <td>51.517576</td>\n",
       "      <td>On or near Police Station</td>\n",
       "      <td>E01032739</td>\n",
       "      <td>City of London 001F</td>\n",
       "      <td>Suspect charged</td>\n",
       "    </tr>\n",
       "    <tr>\n",
       "      <th>18</th>\n",
       "      <td>96dc0e4b0a0548db1a9ce5e423563cb014c7102aa27d0e...</td>\n",
       "      <td>2019-07</td>\n",
       "      <td>City of London Police</td>\n",
       "      <td>City of London Police</td>\n",
       "      <td>-0.090506</td>\n",
       "      <td>51.513524</td>\n",
       "      <td>On or near POULTRY</td>\n",
       "      <td>E01032739</td>\n",
       "      <td>City of London 001F</td>\n",
       "      <td>Suspect charged</td>\n",
       "    </tr>\n",
       "    <tr>\n",
       "      <th>19</th>\n",
       "      <td>96dc0e4b0a0548db1a9ce5e423563cb014c7102aa27d0e...</td>\n",
       "      <td>2019-07</td>\n",
       "      <td>City of London Police</td>\n",
       "      <td>City of London Police</td>\n",
       "      <td>-0.090506</td>\n",
       "      <td>51.513524</td>\n",
       "      <td>On or near POULTRY</td>\n",
       "      <td>E01032739</td>\n",
       "      <td>City of London 001F</td>\n",
       "      <td>Suspect charged</td>\n",
       "    </tr>\n",
       "    <tr>\n",
       "      <th>47</th>\n",
       "      <td>c3e94ba0bdceb17376616a3272096c10e6e834e7aa5e40...</td>\n",
       "      <td>2019-07</td>\n",
       "      <td>City of London Police</td>\n",
       "      <td>City of London Police</td>\n",
       "      <td>-0.076031</td>\n",
       "      <td>51.509547</td>\n",
       "      <td>On or near TOWER HILL</td>\n",
       "      <td>E01004293</td>\n",
       "      <td>Tower Hamlets 027B</td>\n",
       "      <td>Suspect charged</td>\n",
       "    </tr>\n",
       "    <tr>\n",
       "      <th>48</th>\n",
       "      <td>c3e94ba0bdceb17376616a3272096c10e6e834e7aa5e40...</td>\n",
       "      <td>2019-07</td>\n",
       "      <td>City of London Police</td>\n",
       "      <td>City of London Police</td>\n",
       "      <td>-0.076031</td>\n",
       "      <td>51.509547</td>\n",
       "      <td>On or near TOWER HILL</td>\n",
       "      <td>E01004293</td>\n",
       "      <td>Tower Hamlets 027B</td>\n",
       "      <td>Suspect charged</td>\n",
       "    </tr>\n",
       "    <tr>\n",
       "      <th>49</th>\n",
       "      <td>c3e94ba0bdceb17376616a3272096c10e6e834e7aa5e40...</td>\n",
       "      <td>2019-07</td>\n",
       "      <td>City of London Police</td>\n",
       "      <td>City of London Police</td>\n",
       "      <td>-0.076031</td>\n",
       "      <td>51.509547</td>\n",
       "      <td>On or near TOWER HILL</td>\n",
       "      <td>E01004293</td>\n",
       "      <td>Tower Hamlets 027B</td>\n",
       "      <td>Suspect charged</td>\n",
       "    </tr>\n",
       "    <tr>\n",
       "      <th>50</th>\n",
       "      <td>c3e94ba0bdceb17376616a3272096c10e6e834e7aa5e40...</td>\n",
       "      <td>2019-07</td>\n",
       "      <td>City of London Police</td>\n",
       "      <td>City of London Police</td>\n",
       "      <td>-0.076031</td>\n",
       "      <td>51.509547</td>\n",
       "      <td>On or near TOWER HILL</td>\n",
       "      <td>E01004293</td>\n",
       "      <td>Tower Hamlets 027B</td>\n",
       "      <td>Suspect charged</td>\n",
       "    </tr>\n",
       "    <tr>\n",
       "      <th>51</th>\n",
       "      <td>c3e94ba0bdceb17376616a3272096c10e6e834e7aa5e40...</td>\n",
       "      <td>2019-07</td>\n",
       "      <td>City of London Police</td>\n",
       "      <td>City of London Police</td>\n",
       "      <td>-0.076031</td>\n",
       "      <td>51.509547</td>\n",
       "      <td>On or near TOWER HILL</td>\n",
       "      <td>E01004293</td>\n",
       "      <td>Tower Hamlets 027B</td>\n",
       "      <td>Suspect charged</td>\n",
       "    </tr>\n",
       "    <tr>\n",
       "      <th>34</th>\n",
       "      <td>c4ed1aa909cc4e3e0d654c4ed00fa67ea6400e456ff8c7...</td>\n",
       "      <td>2019-07</td>\n",
       "      <td>City of London Police</td>\n",
       "      <td>City of London Police</td>\n",
       "      <td>-0.084967</td>\n",
       "      <td>51.512598</td>\n",
       "      <td>On or near BELL INN YARD</td>\n",
       "      <td>E01032739</td>\n",
       "      <td>City of London 001F</td>\n",
       "      <td>Suspect charged</td>\n",
       "    </tr>\n",
       "    <tr>\n",
       "      <th>35</th>\n",
       "      <td>c4ed1aa909cc4e3e0d654c4ed00fa67ea6400e456ff8c7...</td>\n",
       "      <td>2019-07</td>\n",
       "      <td>City of London Police</td>\n",
       "      <td>City of London Police</td>\n",
       "      <td>-0.084967</td>\n",
       "      <td>51.512598</td>\n",
       "      <td>On or near BELL INN YARD</td>\n",
       "      <td>E01032739</td>\n",
       "      <td>City of London 001F</td>\n",
       "      <td>Suspect charged</td>\n",
       "    </tr>\n",
       "  </tbody>\n",
       "</table>\n",
       "</div>"
      ],
      "text/plain": [
       "                                             Crime ID    Month  \\\n",
       "65  0a3764a348c726e247dab6cf2496d7a8f6e9c693fc873b...  2019-07   \n",
       "66  0a3764a348c726e247dab6cf2496d7a8f6e9c693fc873b...  2019-07   \n",
       "26  3868530a9b13902da68f52b661a39ef954b35108075f12...  2019-07   \n",
       "27  3868530a9b13902da68f52b661a39ef954b35108075f12...  2019-07   \n",
       "56  7d900e9f31ec2167b26d284004b78474d8ee5e0949680b...  2019-07   \n",
       "57  7d900e9f31ec2167b26d284004b78474d8ee5e0949680b...  2019-07   \n",
       "18  96dc0e4b0a0548db1a9ce5e423563cb014c7102aa27d0e...  2019-07   \n",
       "19  96dc0e4b0a0548db1a9ce5e423563cb014c7102aa27d0e...  2019-07   \n",
       "47  c3e94ba0bdceb17376616a3272096c10e6e834e7aa5e40...  2019-07   \n",
       "48  c3e94ba0bdceb17376616a3272096c10e6e834e7aa5e40...  2019-07   \n",
       "49  c3e94ba0bdceb17376616a3272096c10e6e834e7aa5e40...  2019-07   \n",
       "50  c3e94ba0bdceb17376616a3272096c10e6e834e7aa5e40...  2019-07   \n",
       "51  c3e94ba0bdceb17376616a3272096c10e6e834e7aa5e40...  2019-07   \n",
       "34  c4ed1aa909cc4e3e0d654c4ed00fa67ea6400e456ff8c7...  2019-07   \n",
       "35  c4ed1aa909cc4e3e0d654c4ed00fa67ea6400e456ff8c7...  2019-07   \n",
       "\n",
       "              Reported by           Falls within  Longitude   Latitude  \\\n",
       "65  City of London Police  City of London Police  -0.074901  51.506255   \n",
       "66  City of London Police  City of London Police  -0.074901  51.506255   \n",
       "26  City of London Police  City of London Police  -0.083296  51.517058   \n",
       "27  City of London Police  City of London Police  -0.083296  51.517058   \n",
       "56  City of London Police  City of London Police  -0.079786  51.517576   \n",
       "57  City of London Police  City of London Police  -0.079786  51.517576   \n",
       "18  City of London Police  City of London Police  -0.090506  51.513524   \n",
       "19  City of London Police  City of London Police  -0.090506  51.513524   \n",
       "47  City of London Police  City of London Police  -0.076031  51.509547   \n",
       "48  City of London Police  City of London Police  -0.076031  51.509547   \n",
       "49  City of London Police  City of London Police  -0.076031  51.509547   \n",
       "50  City of London Police  City of London Police  -0.076031  51.509547   \n",
       "51  City of London Police  City of London Police  -0.076031  51.509547   \n",
       "34  City of London Police  City of London Police  -0.084967  51.512598   \n",
       "35  City of London Police  City of London Police  -0.084967  51.512598   \n",
       "\n",
       "                       Location  LSOA code            LSOA name  \\\n",
       "65              On or near A100  E01004293   Tower Hamlets 027B   \n",
       "66              On or near A100  E01004293   Tower Hamlets 027B   \n",
       "26  On or near OLD BROAD STREET  E01032739  City of London 001F   \n",
       "27  On or near OLD BROAD STREET  E01032739  City of London 001F   \n",
       "56    On or near Police Station  E01032739  City of London 001F   \n",
       "57    On or near Police Station  E01032739  City of London 001F   \n",
       "18           On or near POULTRY  E01032739  City of London 001F   \n",
       "19           On or near POULTRY  E01032739  City of London 001F   \n",
       "47        On or near TOWER HILL  E01004293   Tower Hamlets 027B   \n",
       "48        On or near TOWER HILL  E01004293   Tower Hamlets 027B   \n",
       "49        On or near TOWER HILL  E01004293   Tower Hamlets 027B   \n",
       "50        On or near TOWER HILL  E01004293   Tower Hamlets 027B   \n",
       "51        On or near TOWER HILL  E01004293   Tower Hamlets 027B   \n",
       "34     On or near BELL INN YARD  E01032739  City of London 001F   \n",
       "35     On or near BELL INN YARD  E01032739  City of London 001F   \n",
       "\n",
       "       Outcome type  \n",
       "65  Suspect charged  \n",
       "66  Suspect charged  \n",
       "26  Suspect charged  \n",
       "27  Suspect charged  \n",
       "56  Suspect charged  \n",
       "57  Suspect charged  \n",
       "18  Suspect charged  \n",
       "19  Suspect charged  \n",
       "47  Suspect charged  \n",
       "48  Suspect charged  \n",
       "49  Suspect charged  \n",
       "50  Suspect charged  \n",
       "51  Suspect charged  \n",
       "34  Suspect charged  \n",
       "35  Suspect charged  "
      ]
     },
     "execution_count": 46,
     "metadata": {},
     "output_type": "execute_result"
    }
   ],
   "source": [
    "outcomes_data[outcomes_data.duplicated('Crime ID', keep=False)].sort_values('Crime ID')"
   ]
  },
  {
   "cell_type": "markdown",
   "id": "d679c8c8",
   "metadata": {},
   "source": [
    "We can see that the duplicates are just duplicates of the same crime, so we can drop them using the `drop_duplicates()` method. In case this has unintended consequences, we can assign this to a new label, `outcomes_unique` so we can come back to the original data if we need to. "
   ]
  },
  {
   "cell_type": "code",
   "execution_count": 47,
   "id": "8bf1f057",
   "metadata": {},
   "outputs": [
    {
     "data": {
      "text/html": [
       "<div>\n",
       "<style scoped>\n",
       "    .dataframe tbody tr th:only-of-type {\n",
       "        vertical-align: middle;\n",
       "    }\n",
       "\n",
       "    .dataframe tbody tr th {\n",
       "        vertical-align: top;\n",
       "    }\n",
       "\n",
       "    .dataframe thead th {\n",
       "        text-align: right;\n",
       "    }\n",
       "</style>\n",
       "<table border=\"1\" class=\"dataframe\">\n",
       "  <thead>\n",
       "    <tr style=\"text-align: right;\">\n",
       "      <th></th>\n",
       "      <th>Crime ID</th>\n",
       "      <th>Month</th>\n",
       "      <th>Reported by</th>\n",
       "      <th>Falls within</th>\n",
       "      <th>Longitude</th>\n",
       "      <th>Latitude</th>\n",
       "      <th>Location</th>\n",
       "      <th>LSOA code</th>\n",
       "      <th>LSOA name</th>\n",
       "      <th>Outcome type</th>\n",
       "    </tr>\n",
       "  </thead>\n",
       "  <tbody>\n",
       "    <tr>\n",
       "      <th>0</th>\n",
       "      <td>d916bdd10349bec542af76fca46dba9cd0bea4a0c522ef...</td>\n",
       "      <td>2019-07</td>\n",
       "      <td>City of London Police</td>\n",
       "      <td>City of London Police</td>\n",
       "      <td>-0.080478</td>\n",
       "      <td>51.527164</td>\n",
       "      <td>On or near Nightclub</td>\n",
       "      <td>E01033708</td>\n",
       "      <td>Hackney 027G</td>\n",
       "      <td>Suspect charged</td>\n",
       "    </tr>\n",
       "    <tr>\n",
       "      <th>1</th>\n",
       "      <td>7c09a5d829ed8e8a8471d5226a7f7d05b60c86db329182...</td>\n",
       "      <td>2019-07</td>\n",
       "      <td>City of London Police</td>\n",
       "      <td>City of London Police</td>\n",
       "      <td>NaN</td>\n",
       "      <td>NaN</td>\n",
       "      <td>No location</td>\n",
       "      <td>NaN</td>\n",
       "      <td>NaN</td>\n",
       "      <td>Offender given a drugs possession warning</td>\n",
       "    </tr>\n",
       "    <tr>\n",
       "      <th>2</th>\n",
       "      <td>7bcf63778a38f648ea025036ba2688a13891d276776acd...</td>\n",
       "      <td>2019-07</td>\n",
       "      <td>City of London Police</td>\n",
       "      <td>City of London Police</td>\n",
       "      <td>NaN</td>\n",
       "      <td>NaN</td>\n",
       "      <td>No location</td>\n",
       "      <td>NaN</td>\n",
       "      <td>NaN</td>\n",
       "      <td>Suspect charged</td>\n",
       "    </tr>\n",
       "    <tr>\n",
       "      <th>3</th>\n",
       "      <td>c8c87a0bc67dffb3a8fd1b73b909d5ea3e59f1984a5c34...</td>\n",
       "      <td>2019-07</td>\n",
       "      <td>City of London Police</td>\n",
       "      <td>City of London Police</td>\n",
       "      <td>NaN</td>\n",
       "      <td>NaN</td>\n",
       "      <td>No location</td>\n",
       "      <td>NaN</td>\n",
       "      <td>NaN</td>\n",
       "      <td>Investigation complete; no suspect identified</td>\n",
       "    </tr>\n",
       "    <tr>\n",
       "      <th>4</th>\n",
       "      <td>db2af2273cebcbd38278fcd8972a35340d22d3d7a482bc...</td>\n",
       "      <td>2019-07</td>\n",
       "      <td>City of London Police</td>\n",
       "      <td>City of London Police</td>\n",
       "      <td>NaN</td>\n",
       "      <td>NaN</td>\n",
       "      <td>No location</td>\n",
       "      <td>NaN</td>\n",
       "      <td>NaN</td>\n",
       "      <td>Unable to prosecute suspect</td>\n",
       "    </tr>\n",
       "  </tbody>\n",
       "</table>\n",
       "</div>"
      ],
      "text/plain": [
       "                                            Crime ID    Month  \\\n",
       "0  d916bdd10349bec542af76fca46dba9cd0bea4a0c522ef...  2019-07   \n",
       "1  7c09a5d829ed8e8a8471d5226a7f7d05b60c86db329182...  2019-07   \n",
       "2  7bcf63778a38f648ea025036ba2688a13891d276776acd...  2019-07   \n",
       "3  c8c87a0bc67dffb3a8fd1b73b909d5ea3e59f1984a5c34...  2019-07   \n",
       "4  db2af2273cebcbd38278fcd8972a35340d22d3d7a482bc...  2019-07   \n",
       "\n",
       "             Reported by           Falls within  Longitude   Latitude  \\\n",
       "0  City of London Police  City of London Police  -0.080478  51.527164   \n",
       "1  City of London Police  City of London Police        NaN        NaN   \n",
       "2  City of London Police  City of London Police        NaN        NaN   \n",
       "3  City of London Police  City of London Police        NaN        NaN   \n",
       "4  City of London Police  City of London Police        NaN        NaN   \n",
       "\n",
       "               Location  LSOA code     LSOA name  \\\n",
       "0  On or near Nightclub  E01033708  Hackney 027G   \n",
       "1           No location        NaN           NaN   \n",
       "2           No location        NaN           NaN   \n",
       "3           No location        NaN           NaN   \n",
       "4           No location        NaN           NaN   \n",
       "\n",
       "                                    Outcome type  \n",
       "0                                Suspect charged  \n",
       "1      Offender given a drugs possession warning  \n",
       "2                                Suspect charged  \n",
       "3  Investigation complete; no suspect identified  \n",
       "4                    Unable to prosecute suspect  "
      ]
     },
     "execution_count": 47,
     "metadata": {},
     "output_type": "execute_result"
    }
   ],
   "source": [
    "outcomes_unique = outcomes_data.drop_duplicates('Crime ID')\n",
    "outcomes_unique.head()"
   ]
  },
  {
   "cell_type": "markdown",
   "id": "a924abfe-d6fe-49df-9465-5194750f9bcd",
   "metadata": {},
   "source": [
    "### Location validity\n",
    "Is the data valid?"
   ]
  },
  {
   "cell_type": "markdown",
   "id": "6112099e",
   "metadata": {},
   "source": [
    "We saw before that the `Longitude` and `Latitude` columns have a lot of missing values. We can use the `isnull()` method to return a Series of binary values indicating whether a value is missing or not. We can then use this to filter the DataFrame to only show the rows where the `Longitude` or `Latitude` values are not missing using the `~` operator. Lastly, we can put this subset of the data into a new DataFrame called `outcomes_located`."
   ]
  },
  {
   "cell_type": "code",
   "execution_count": 48,
   "id": "50605e75-d5d7-42ca-a065-c901d3287c89",
   "metadata": {},
   "outputs": [],
   "source": [
    "outcomes_located = outcomes_unique[~outcomes_unique['Longitude'].isnull()]"
   ]
  },
  {
   "cell_type": "markdown",
   "id": "3e4a6de4",
   "metadata": {},
   "source": [
    "We can have a look at where these are all located using the `scatter()` method to plot the `Longitude` and `Latitude` columns against each other to see if there are any obvious outliers."
   ]
  },
  {
   "cell_type": "code",
   "execution_count": 49,
   "id": "95820c6c-b693-42d4-9e78-a7bb0f5886b1",
   "metadata": {},
   "outputs": [
    {
     "data": {
      "image/png": "[encoded data removed]",
      "text/plain": [
       "<Figure size 640x480 with 1 Axes>"
      ]
     },
     "metadata": {},
     "output_type": "display_data"
    }
   ],
   "source": [
    "outcomes_located.plot.scatter('Longitude', 'Latitude');"
   ]
  },
  {
   "cell_type": "markdown",
   "id": "bcde76cc",
   "metadata": {},
   "source": [
    "Lets have a look if the visible outlier is valid data or not. We can use the `query()` method to filter the `outcomes_located` DataFrame to only show the rows where the `Longitude` value is less than -1 to see the data for this outlier."
   ]
  },
  {
   "cell_type": "code",
   "execution_count": 50,
   "id": "e6a9de4c",
   "metadata": {},
   "outputs": [
    {
     "data": {
      "text/html": [
       "<div>\n",
       "<style scoped>\n",
       "    .dataframe tbody tr th:only-of-type {\n",
       "        vertical-align: middle;\n",
       "    }\n",
       "\n",
       "    .dataframe tbody tr th {\n",
       "        vertical-align: top;\n",
       "    }\n",
       "\n",
       "    .dataframe thead th {\n",
       "        text-align: right;\n",
       "    }\n",
       "</style>\n",
       "<table border=\"1\" class=\"dataframe\">\n",
       "  <thead>\n",
       "    <tr style=\"text-align: right;\">\n",
       "      <th></th>\n",
       "      <th>Crime ID</th>\n",
       "      <th>Month</th>\n",
       "      <th>Reported by</th>\n",
       "      <th>Falls within</th>\n",
       "      <th>Longitude</th>\n",
       "      <th>Latitude</th>\n",
       "      <th>Location</th>\n",
       "      <th>LSOA code</th>\n",
       "      <th>LSOA name</th>\n",
       "      <th>Outcome type</th>\n",
       "    </tr>\n",
       "  </thead>\n",
       "  <tbody>\n",
       "    <tr>\n",
       "      <th>414</th>\n",
       "      <td>f2f4e98933d44c23a63b983de32ef18f28de112cf5846b...</td>\n",
       "      <td>2019-07</td>\n",
       "      <td>City of London Police</td>\n",
       "      <td>City of London Police</td>\n",
       "      <td>-1.621245</td>\n",
       "      <td>53.245553</td>\n",
       "      <td>On or near Sports/Recreation Area</td>\n",
       "      <td>E01019606</td>\n",
       "      <td>Derbyshire Dales 002C</td>\n",
       "      <td>Investigation complete; no suspect identified</td>\n",
       "    </tr>\n",
       "  </tbody>\n",
       "</table>\n",
       "</div>"
      ],
      "text/plain": [
       "                                              Crime ID    Month  \\\n",
       "414  f2f4e98933d44c23a63b983de32ef18f28de112cf5846b...  2019-07   \n",
       "\n",
       "               Reported by           Falls within  Longitude   Latitude  \\\n",
       "414  City of London Police  City of London Police  -1.621245  53.245553   \n",
       "\n",
       "                              Location  LSOA code              LSOA name  \\\n",
       "414  On or near Sports/Recreation Area  E01019606  Derbyshire Dales 002C   \n",
       "\n",
       "                                      Outcome type  \n",
       "414  Investigation complete; no suspect identified  "
      ]
     },
     "execution_count": 50,
     "metadata": {},
     "output_type": "execute_result"
    }
   ],
   "source": [
    "outcomes_located.query('Longitude < -1')"
   ]
  },
  {
   "cell_type": "markdown",
   "id": "d561c334",
   "metadata": {},
   "source": [
    "We can see that the outlier is outside of the City of London, so we can reverse our query to filter the `outcomes_located` DataFrame to only show the rows where the `Longitude` value is greater than -1 to see the data for London. In case this has unintended consequences, we can assign this to a new label, `london_located` so we can come back to the original data if we need to.\n",
    "\n",
    "We can then use the `scatter()` method to plot the `Longitude` and `Latitude` columns against each other to see if there are still any obvious outliers."
   ]
  },
  {
   "cell_type": "code",
   "execution_count": 51,
   "id": "62d50c41-7ad1-4421-86c2-5b5723c122b0",
   "metadata": {},
   "outputs": [
    {
     "data": {
      "image/png": "[encoded data removed]",
      "text/plain": [
       "<Figure size 640x480 with 1 Axes>"
      ]
     },
     "metadata": {},
     "output_type": "display_data"
    }
   ],
   "source": [
    "london_located = outcomes_located.query('Longitude > -1')\n",
    "london_located.plot.scatter('Longitude', 'Latitude');"
   ]
  },
  {
   "cell_type": "markdown",
   "id": "d56582af",
   "metadata": {},
   "source": [
    "It looks like there still are some outliers, so we can use the `query()` method to filter the `london_located` DataFrame to only show the rows where the `Latitude` value is less than 51.49 to see the lower outliers."
   ]
  },
  {
   "cell_type": "code",
   "execution_count": 52,
   "id": "10226014-f8cb-497f-9235-4fa0638bf669",
   "metadata": {},
   "outputs": [
    {
     "data": {
      "text/html": [
       "<div>\n",
       "<style scoped>\n",
       "    .dataframe tbody tr th:only-of-type {\n",
       "        vertical-align: middle;\n",
       "    }\n",
       "\n",
       "    .dataframe tbody tr th {\n",
       "        vertical-align: top;\n",
       "    }\n",
       "\n",
       "    .dataframe thead th {\n",
       "        text-align: right;\n",
       "    }\n",
       "</style>\n",
       "<table border=\"1\" class=\"dataframe\">\n",
       "  <thead>\n",
       "    <tr style=\"text-align: right;\">\n",
       "      <th></th>\n",
       "      <th>Crime ID</th>\n",
       "      <th>Month</th>\n",
       "      <th>Reported by</th>\n",
       "      <th>Falls within</th>\n",
       "      <th>Longitude</th>\n",
       "      <th>Latitude</th>\n",
       "      <th>Location</th>\n",
       "      <th>LSOA code</th>\n",
       "      <th>LSOA name</th>\n",
       "      <th>Outcome type</th>\n",
       "    </tr>\n",
       "  </thead>\n",
       "  <tbody>\n",
       "    <tr>\n",
       "      <th>602</th>\n",
       "      <td>48181ac92e1d6914bce16aff37bd4ce25da4f7c765fb22...</td>\n",
       "      <td>2019-07</td>\n",
       "      <td>City of London Police</td>\n",
       "      <td>City of London Police</td>\n",
       "      <td>-0.113649</td>\n",
       "      <td>51.46578</td>\n",
       "      <td>On or near BRIXTON ROAD</td>\n",
       "      <td>E01003047</td>\n",
       "      <td>Lambeth 011B</td>\n",
       "      <td>Investigation complete; no suspect identified</td>\n",
       "    </tr>\n",
       "  </tbody>\n",
       "</table>\n",
       "</div>"
      ],
      "text/plain": [
       "                                              Crime ID    Month  \\\n",
       "602  48181ac92e1d6914bce16aff37bd4ce25da4f7c765fb22...  2019-07   \n",
       "\n",
       "               Reported by           Falls within  Longitude  Latitude  \\\n",
       "602  City of London Police  City of London Police  -0.113649  51.46578   \n",
       "\n",
       "                    Location  LSOA code     LSOA name  \\\n",
       "602  On or near BRIXTON ROAD  E01003047  Lambeth 011B   \n",
       "\n",
       "                                      Outcome type  \n",
       "602  Investigation complete; no suspect identified  "
      ]
     },
     "execution_count": 52,
     "metadata": {},
     "output_type": "execute_result"
    }
   ],
   "source": [
    "london_located.query('Latitude < 51.49')"
   ]
  },
  {
   "cell_type": "markdown",
   "id": "ba139005",
   "metadata": {},
   "source": [
    "As we are happy to discard this we can use the same approach as before to drop it from the `london_located` DataFrame and creating a new DataFrame called `london_located_north`. We can then use the `scatter()` method to plot the `Longitude` and `Latitude` columns against each other to see if there are still any obvious outliers."
   ]
  },
  {
   "cell_type": "code",
   "execution_count": 53,
   "id": "00eea145-e770-4b72-87c1-bf5b92643bd5",
   "metadata": {},
   "outputs": [
    {
     "data": {
      "image/png": "[encoded data removed]",
      "text/plain": [
       "<Figure size 640x480 with 1 Axes>"
      ]
     },
     "metadata": {},
     "output_type": "display_data"
    }
   ],
   "source": [
    "london_located_north = london_located.query('Latitude > 51.49')\n",
    "london_located_north.plot.scatter('Longitude', 'Latitude');"
   ]
  },
  {
   "cell_type": "markdown",
   "id": "3628a586",
   "metadata": {},
   "source": [
    "It looks like there still are some outliers, so we can use the `query()` method to filter the `london_located` DataFrame to only show the rows where the `Latitude` value is greater than 51.525 to see the upper outliers."
   ]
  },
  {
   "cell_type": "code",
   "execution_count": 54,
   "id": "b6d923d4-4d28-4ba7-b49b-1ff202a0901a",
   "metadata": {},
   "outputs": [
    {
     "data": {
      "text/html": [
       "<div>\n",
       "<style scoped>\n",
       "    .dataframe tbody tr th:only-of-type {\n",
       "        vertical-align: middle;\n",
       "    }\n",
       "\n",
       "    .dataframe tbody tr th {\n",
       "        vertical-align: top;\n",
       "    }\n",
       "\n",
       "    .dataframe thead th {\n",
       "        text-align: right;\n",
       "    }\n",
       "</style>\n",
       "<table border=\"1\" class=\"dataframe\">\n",
       "  <thead>\n",
       "    <tr style=\"text-align: right;\">\n",
       "      <th></th>\n",
       "      <th>Crime ID</th>\n",
       "      <th>Month</th>\n",
       "      <th>Reported by</th>\n",
       "      <th>Falls within</th>\n",
       "      <th>Longitude</th>\n",
       "      <th>Latitude</th>\n",
       "      <th>Location</th>\n",
       "      <th>LSOA code</th>\n",
       "      <th>LSOA name</th>\n",
       "      <th>Outcome type</th>\n",
       "    </tr>\n",
       "  </thead>\n",
       "  <tbody>\n",
       "    <tr>\n",
       "      <th>0</th>\n",
       "      <td>d916bdd10349bec542af76fca46dba9cd0bea4a0c522ef...</td>\n",
       "      <td>2019-07</td>\n",
       "      <td>City of London Police</td>\n",
       "      <td>City of London Police</td>\n",
       "      <td>-0.080478</td>\n",
       "      <td>51.527164</td>\n",
       "      <td>On or near Nightclub</td>\n",
       "      <td>E01033708</td>\n",
       "      <td>Hackney 027G</td>\n",
       "      <td>Suspect charged</td>\n",
       "    </tr>\n",
       "    <tr>\n",
       "      <th>294</th>\n",
       "      <td>6efa9288974495c41df0232fafe7f605ca9bb74222d1e2...</td>\n",
       "      <td>2019-07</td>\n",
       "      <td>City of London Police</td>\n",
       "      <td>City of London Police</td>\n",
       "      <td>-0.106353</td>\n",
       "      <td>51.549464</td>\n",
       "      <td>On or near FIELDWAY CRESCENT</td>\n",
       "      <td>E01002739</td>\n",
       "      <td>Islington 013A</td>\n",
       "      <td>Unable to prosecute suspect</td>\n",
       "    </tr>\n",
       "  </tbody>\n",
       "</table>\n",
       "</div>"
      ],
      "text/plain": [
       "                                              Crime ID    Month  \\\n",
       "0    d916bdd10349bec542af76fca46dba9cd0bea4a0c522ef...  2019-07   \n",
       "294  6efa9288974495c41df0232fafe7f605ca9bb74222d1e2...  2019-07   \n",
       "\n",
       "               Reported by           Falls within  Longitude   Latitude  \\\n",
       "0    City of London Police  City of London Police  -0.080478  51.527164   \n",
       "294  City of London Police  City of London Police  -0.106353  51.549464   \n",
       "\n",
       "                         Location  LSOA code       LSOA name  \\\n",
       "0            On or near Nightclub  E01033708    Hackney 027G   \n",
       "294  On or near FIELDWAY CRESCENT  E01002739  Islington 013A   \n",
       "\n",
       "                    Outcome type  \n",
       "0                Suspect charged  \n",
       "294  Unable to prosecute suspect  "
      ]
     },
     "execution_count": 54,
     "metadata": {},
     "output_type": "execute_result"
    }
   ],
   "source": [
    "london_located_north.query('Latitude > 51.525')"
   ]
  },
  {
   "cell_type": "markdown",
   "id": "354b23e7",
   "metadata": {},
   "source": [
    "As we are happy to discard this we can use the same approach as before to drop it from the `london_located_north` DataFrame and creating a new DataFrame called `london_located_central`. We can then use the `scatter()` method to plot the `Longitude` and `Latitude` columns against each other to see if there are still any obvious outliers."
   ]
  },
  {
   "cell_type": "code",
   "execution_count": 64,
   "id": "3ecdddf7-3be8-4efb-8683-b57432666574",
   "metadata": {},
   "outputs": [
    {
     "data": {
      "image/png": "[encoded data removed]",
      "text/plain": [
       "<Figure size 640x480 with 1 Axes>"
      ]
     },
     "metadata": {},
     "output_type": "display_data"
    }
   ],
   "source": [
    "london_located_central = london_located_north.query('Latitude < 51.525')\n",
    "london_located_central.plot.scatter('Longitude', 'Latitude', c='k', marker='+');\n",
    "#for tick in ax.get_xticklabels():\n",
    "#    tick.set_rotation(45)\n",
    "plt.xticks(rotation=30, ha='right')\n",
    "plt.yticks(rotation=30, ha='right')\n",
    "plt.grid(color = 'lightgrey', linestyle = '-', linewidth = 0.5)"
   ]
  },
  {
   "cell_type": "markdown",
   "id": "1bd810b1",
   "metadata": {},
   "source": [
    "This data looks clean now, so we can move on to the next step.\n",
    "\n",
    "### Export and explore data\n",
    "\n",
    "Our task was the explore and prepare the data for the analysis. Now we have done that, we should save the DataFrame to a csv using the `to_csv()` method and the `data_folder` object we created earlier."
   ]
  },
  {
   "cell_type": "code",
   "execution_count": null,
   "id": "aad6ce1d",
   "metadata": {},
   "outputs": [],
   "source": [
    "london_located_central.to_csv(data_folder / '2019-07-city-of-london-outcomes_cleaned.csv')"
   ]
  },
  {
   "cell_type": "markdown",
   "id": "5cdcdbb2",
   "metadata": {},
   "source": [
    "Having done that, we can briefly explore the data more thoroughly by plotting it onto a map using `ipyleaflet`. To do so, we will need to find the centre of the map, which we can do by calculating:\n",
    "\n",
    "$center = \\frac{max + min}{2}$\n",
    "\n",
    "Pandas has the `max()` and `min()` methods that we can use to calculate these.  "
   ]
  },
  {
   "cell_type": "code",
   "execution_count": null,
   "id": "251078c4",
   "metadata": {},
   "outputs": [],
   "source": [
    "map_center = (london_located_central[['Latitude', 'Longitude']].max() + london_located_central[['Latitude', 'Longitude']].min())/2\n",
    "map_center_list = map_center.to_list()"
   ]
  },
  {
   "cell_type": "markdown",
   "id": "08c9e174",
   "metadata": {},
   "source": [
    "To show all the data points on the map, we will need to create a marker for each crime location. We can do this using list comprehension to loop through the `london_located_central` DataFrame and creating a `Marker()` object for each row. We can then use the `MarkerCluster()` function from `ipyleaflet` to create a cluster of markers. "
   ]
  },
  {
   "cell_type": "code",
   "execution_count": null,
   "id": "aa69e9c0",
   "metadata": {},
   "outputs": [],
   "source": [
    "marker_list = [Marker(location=tuple(l), draggable=False) for l in london_located_central[['Latitude', 'Longitude']].values]\n",
    "marker_cluster = MarkerCluster(markers=marker_list)"
   ]
  },
  {
   "cell_type": "markdown",
   "id": "1db0629f",
   "metadata": {},
   "source": [
    "We can then use the `Map()` function from `ipyleaflet` to create a map centered on the City of London. To see it properly, we will zoom in to zoom level 13. We will also use the Open Street Map as the base map. Lastly, we can use the `add_layer()` method to add the cluster to the map. "
   ]
  },
  {
   "cell_type": "code",
   "execution_count": null,
   "id": "e23b60da",
   "metadata": {},
   "outputs": [],
   "source": [
    "m = Map(\n",
    "    basemap=basemap_to_tiles(basemaps.OpenStreetMap.Mapnik),\n",
    "    center=map_center_list,\n",
    "    zoom=13\n",
    "    )\n",
    "m.add_layer(marker_cluster);\n",
    "\n",
    "m"
   ]
  },
  {
   "cell_type": "code",
   "execution_count": null,
   "id": "691702f3",
   "metadata": {},
   "outputs": [],
   "source": []
  }
 ],
 "metadata": {
  "jupytext": {
   "formats": "ipynb,md"
  },
  "kernelspec": {
   "display_name": "Python 3 (ipykernel)",
   "language": "python",
   "name": "python3"
  },
  "language_info": {
   "codemirror_mode": {
    "name": "ipython",
    "version": 3
   },
   "file_extension": ".py",
   "mimetype": "text/x-python",
   "name": "python",
   "nbconvert_exporter": "python",
   "pygments_lexer": "ipython3",
   "version": "3.12.0"
  }
 },
 "nbformat": 4,
 "nbformat_minor": 5
}
